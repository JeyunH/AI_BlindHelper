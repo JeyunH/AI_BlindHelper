{
 "cells": [
  {
   "cell_type": "code",
   "execution_count": 2,
   "id": "948055cc-5bb7-47b6-935f-a32cae8e70c6",
   "metadata": {},
   "outputs": [],
   "source": [
    "import cv2\n",
    "from ultralytics import YOLO\n",
    "\n",
    "Danger_classes = ['car','bus', 'truck', 'person', 'bicycle', 'traffic light']\n",
    "cap = cv2.VideoCapture('SeoulWalk.mp4')\n",
    "yolo_model= YOLO('yolov8n.pt')\n",
    "if cap.isOpened() == False:\n",
    "    print(\"비디오 열기 실패\")\n",
    "    exit()\n",
    "\n",
    "while True:\n",
    "    ret, frame = cap.read()\n",
    "    if ret == False:\n",
    "        break\n",
    "    results = yolo_model(frame, conf=0.5, verbose=False)[0]\n",
    "    #frame = results.plot()\n",
    "\n",
    "    for box in results.boxes:\n",
    "        cls_id = int(box.cls[0])\n",
    "        label = yolo_model.names[cls_id]\n",
    "        if label in Danger_classes:\n",
    "            x1,y1,x2,y2 = map(int, box.xyxy[0])\n",
    "            cv2.putText(frame, f\"{label} detected!\", (x1, y1 - 10), cv2.FONT_HERSHEY_SIMPLEX, 0.8, (0,0,255), 2)\n",
    "    \n",
    "    cv2.imshow(\"GuidePath\", frame)\n",
    "    key = cv2.waitKey(15) & 0xFF\n",
    "    if key == ord('q'):\n",
    "        break\n",
    "cap.release()\n",
    "cv2.destroyAllWindows()"
   ]
  }
 ],
 "metadata": {
  "kernelspec": {
   "display_name": "Python 3 (ipykernel)",
   "language": "python",
   "name": "python3"
  },
  "language_info": {
   "codemirror_mode": {
    "name": "ipython",
    "version": 3
   },
   "file_extension": ".py",
   "mimetype": "text/x-python",
   "name": "python",
   "nbconvert_exporter": "python",
   "pygments_lexer": "ipython3",
   "version": "3.11.13"
  }
 },
 "nbformat": 4,
 "nbformat_minor": 5
}
