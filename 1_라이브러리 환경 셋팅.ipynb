{
 "cells": [
  {
   "cell_type": "code",
   "execution_count": null,
   "id": "2173127d-50a4-40ab-ade6-4f705ff9ed55",
   "metadata": {},
   "outputs": [],
   "source": [
    "# 1. 기본 데이터 처리 및 이미지 라이브러리\n",
    "!pip install chardet\n",
    "!pip install numpy==2.0.2\n",
    "!pip install -U Pillow"
   ]
  },
  {
   "cell_type": "code",
   "execution_count": null,
   "id": "882809dc-28e4-49c0-a3e1-7fd9ea11ce6f",
   "metadata": {
    "scrolled": true
   },
   "outputs": [],
   "source": [
    "# 2. NVIDIA GPU 상태 및 CUDA 버전 확인\n",
    "!nvidia-smi"
   ]
  },
  {
   "cell_type": "code",
   "execution_count": null,
   "id": "392c539d-9b33-42bc-afe8-c720465fbded",
   "metadata": {
    "scrolled": true
   },
   "outputs": [],
   "source": [
    "# 3. PyTorch 및 YOLO 객체 탐지 라이브러리\n",
    "!pip install torch==2.7.0 torchvision==0.22.0 torchaudio==2.7.0 --index-url https://download.pytorch.org/whl/cu118\n",
    "!pip install ultralytics"
   ]
  },
  {
   "cell_type": "code",
   "execution_count": null,
   "id": "4ab84364-e9a7-43de-9649-1981d4fe78fb",
   "metadata": {},
   "outputs": [],
   "source": [
    "# 4. PyTorch GPU 연동 확인\n",
    "import torch\n",
    "torch.cuda.is_available()"
   ]
  },
  {
   "cell_type": "code",
   "execution_count": null,
   "id": "67f1dc18-fd7b-4b92-82a6-bd5c3b1ecfbd",
   "metadata": {},
   "outputs": [],
   "source": [
    "# 5. TTS(텍스트-음성 변환) 및 사운드 재생 라이브러리\n",
    "!pip install gTTS\n",
    "!pip install playsound==1.2.2"
   ]
  },
  {
   "cell_type": "code",
   "execution_count": null,
   "id": "325caf80-774b-4e20-ae97-c2b66189264a",
   "metadata": {},
   "outputs": [],
   "source": [
    "# 6. 객체 추적(Object Tracking) 라이브러리\n",
    "!pip install deep-sort-realtime"
   ]
  },
  {
   "cell_type": "code",
   "execution_count": null,
   "id": "465f1ac0-64c8-4711-8fb5-8e95b46499ae",
   "metadata": {},
   "outputs": [],
   "source": [
    "# 7. 로컬(오프라인) TTS 라이브러리\n",
    "!pip install pyttsx3"
   ]
  },
  {
   "cell_type": "code",
   "execution_count": null,
   "id": "d82fe6cf-75a3-4815-9805-825c3b60c443",
   "metadata": {
    "scrolled": true
   },
   "outputs": [],
   "source": [
    "# 8. Stable Diffusion 구동을 위한 핵심 라이브러리\n",
    "!pip install --upgrade diffusers\n",
    "!pip install --upgrade transformers\n",
    "!pip install --upgrade accelerate\n",
    "!pip install --upgrade safetensors"
   ]
  },
  {
   "cell_type": "code",
   "execution_count": null,
   "id": "7a04d878-1389-407f-a924-c49bd9345883",
   "metadata": {
    "scrolled": true
   },
   "outputs": [],
   "source": [
    "# 9. Grounding DINO (Zero-Shot 객체 탐지) 관련 라이브러리\n",
    "!pip install pycocotools\n",
    "!pip install transformers timm"
   ]
  },
  {
   "cell_type": "code",
   "execution_count": null,
   "id": "38422e66-076c-467b-ba0b-5e6f788def15",
   "metadata": {
    "scrolled": true
   },
   "outputs": [],
   "source": [
    "# 10. 이미지 데이터 증강 및 처리 진행률 표시 라이브러리\n",
    "!pip install albumentations tqdm"
   ]
  }
 ],
 "metadata": {
  "kernelspec": {
   "display_name": "Python 3 (ipykernel)",
   "language": "python",
   "name": "python3"
  },
  "language_info": {
   "codemirror_mode": {
    "name": "ipython",
    "version": 3
   },
   "file_extension": ".py",
   "mimetype": "text/x-python",
   "name": "python",
   "nbconvert_exporter": "python",
   "pygments_lexer": "ipython3",
   "version": "3.11.0"
  }
 },
 "nbformat": 4,
 "nbformat_minor": 5
}
